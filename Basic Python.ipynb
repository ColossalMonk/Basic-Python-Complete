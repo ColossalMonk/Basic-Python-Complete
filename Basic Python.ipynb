{
 "cells": [
  {
   "cell_type": "code",
   "execution_count": 1,
   "metadata": {},
   "outputs": [],
   "source": [
    "#python Jupyter practice \n"
   ]
  },
  {
   "cell_type": "code",
   "execution_count": 2,
   "metadata": {},
   "outputs": [
    {
     "name": "stdout",
     "output_type": "stream",
     "text": [
      "Hello World!\n"
     ]
    }
   ],
   "source": [
    "#first program\n",
    "print (\"Hello World!\")"
   ]
  },
  {
   "cell_type": "code",
   "execution_count": 3,
   "metadata": {},
   "outputs": [],
   "source": [
    "first_name = \"Siddharhta\"\n",
    "last_name = \"Satyarthi\"\n",
    "#output: My name is first_name last_name"
   ]
  },
  {
   "cell_type": "code",
   "execution_count": 4,
   "metadata": {},
   "outputs": [
    {
     "name": "stdout",
     "output_type": "stream",
     "text": [
      "My name is Siddharhta Satyarthi\n"
     ]
    }
   ],
   "source": [
    "print (\"My name is {} {}\".format(first_name,last_name))"
   ]
  },
  {
   "cell_type": "code",
   "execution_count": 5,
   "metadata": {},
   "outputs": [],
   "source": [
    "#{} are used as a string/variables holders and .format(variable_name) are the initiliazers "
   ]
  },
  {
   "cell_type": "code",
   "execution_count": 6,
   "metadata": {},
   "outputs": [],
   "source": [
    "#using sep=\"\" and end=\"\""
   ]
  },
  {
   "cell_type": "code",
   "execution_count": 7,
   "metadata": {},
   "outputs": [
    {
     "name": "stdout",
     "output_type": "stream",
     "text": [
      "Hello , this , is , Siddhartha , Satyarthi  @@@  I , am , attending , summer , training , for , Python and ML   @@@  "
     ]
    }
   ],
   "source": [
    "print(\"Hello\",\"this\",\"is\",\"Siddhartha\",\"Satyarthi\", end = \"  @@@  \", sep = \" , \")\n",
    "print(\"I\",\"am\",\"attending\",\"summer\",\"training\",\"for\",\"Python and ML\", end = \"   @@@  \", sep = \" , \")"
   ]
  },
  {
   "cell_type": "code",
   "execution_count": 8,
   "metadata": {},
   "outputs": [],
   "source": [
    "#taking inputs from the user"
   ]
  },
  {
   "cell_type": "code",
   "execution_count": 9,
   "metadata": {},
   "outputs": [
    {
     "name": "stdout",
     "output_type": "stream",
     "text": [
      "hello\n",
      "<class 'str'>\n"
     ]
    }
   ],
   "source": [
    "a = input()\n",
    "print(type(a))"
   ]
  },
  {
   "cell_type": "code",
   "execution_count": 10,
   "metadata": {},
   "outputs": [
    {
     "name": "stdout",
     "output_type": "stream",
     "text": [
      "123\n",
      "<class 'str'>\n"
     ]
    }
   ],
   "source": [
    "a = input()\n",
    "print(type(a))"
   ]
  },
  {
   "cell_type": "code",
   "execution_count": 11,
   "metadata": {},
   "outputs": [],
   "source": [
    "#no matter what the input be, the deault argument for the input is a string always\n",
    "#to make the input specific in argument; syntax: a = int(input ()); for integer inputs and so on..."
   ]
  },
  {
   "cell_type": "code",
   "execution_count": 12,
   "metadata": {},
   "outputs": [
    {
     "name": "stdout",
     "output_type": "stream",
     "text": [
      "sid\n"
     ]
    },
    {
     "ename": "ValueError",
     "evalue": "invalid literal for int() with base 10: 'sid'",
     "output_type": "error",
     "traceback": [
      "\u001b[1;31m---------------------------------------------------------------------------\u001b[0m",
      "\u001b[1;31mValueError\u001b[0m                                Traceback (most recent call last)",
      "\u001b[1;32m<ipython-input-12-b1dc3a4fbc98>\u001b[0m in \u001b[0;36m<module>\u001b[1;34m\u001b[0m\n\u001b[1;32m----> 1\u001b[1;33m \u001b[0ma\u001b[0m \u001b[1;33m=\u001b[0m \u001b[0mint\u001b[0m \u001b[1;33m(\u001b[0m\u001b[0minput\u001b[0m \u001b[1;33m(\u001b[0m\u001b[1;33m)\u001b[0m\u001b[1;33m)\u001b[0m\u001b[1;33m\u001b[0m\u001b[1;33m\u001b[0m\u001b[0m\n\u001b[0m\u001b[0;32m      2\u001b[0m \u001b[0mprint\u001b[0m \u001b[1;33m(\u001b[0m\u001b[0mtype\u001b[0m \u001b[1;33m(\u001b[0m\u001b[0ma\u001b[0m\u001b[1;33m)\u001b[0m\u001b[1;33m)\u001b[0m\u001b[1;33m\u001b[0m\u001b[1;33m\u001b[0m\u001b[0m\n",
      "\u001b[1;31mValueError\u001b[0m: invalid literal for int() with base 10: 'sid'"
     ]
    }
   ],
   "source": [
    "a = int (input ())\n",
    "print (type (a))"
   ]
  },
  {
   "cell_type": "code",
   "execution_count": 13,
   "metadata": {},
   "outputs": [],
   "source": [
    "#error in above because we used int as an variable argument but passed a string value"
   ]
  },
  {
   "cell_type": "code",
   "execution_count": 14,
   "metadata": {},
   "outputs": [
    {
     "name": "stdout",
     "output_type": "stream",
     "text": [
      "5\n",
      "<class 'int'>\n"
     ]
    }
   ],
   "source": [
    "a = int (input ())\n",
    "print (type (a))"
   ]
  },
  {
   "cell_type": "code",
   "execution_count": 15,
   "metadata": {},
   "outputs": [],
   "source": [
    "# four type of data variables in python\n",
    "# 1. str for string\n",
    "# 2. int for integer\n",
    "# 3. float for floating variable(decimals)\n",
    "# 4. complex for complex variables (real + imagenary)4\n",
    "#also to make a multi line comment we use ctrl + / while selecting all the lines to be commented"
   ]
  },
  {
   "cell_type": "code",
   "execution_count": 16,
   "metadata": {},
   "outputs": [],
   "source": [
    "# basic artihmetic operators\n",
    "# + for addition\n",
    "# - for subtraction\n",
    "# * for multiplication\n",
    "# % for modulus\n",
    "# / for division\n",
    "# // for floor division\n",
    "# ** for power "
   ]
  },
  {
   "cell_type": "code",
   "execution_count": 17,
   "metadata": {},
   "outputs": [
    {
     "name": "stdout",
     "output_type": "stream",
     "text": [
      "9\n",
      "<class 'int'>\n"
     ]
    }
   ],
   "source": [
    "a = 4 + 5\n",
    "print (a)\n",
    "print (type (a))"
   ]
  },
  {
   "cell_type": "code",
   "execution_count": 18,
   "metadata": {},
   "outputs": [
    {
     "name": "stdout",
     "output_type": "stream",
     "text": [
      "5657.554\n",
      "<class 'float'>\n"
     ]
    }
   ],
   "source": [
    "a = 5423.32 + 234.234\n",
    "print (a)\n",
    "print (type (a))"
   ]
  },
  {
   "cell_type": "code",
   "execution_count": 19,
   "metadata": {},
   "outputs": [],
   "source": [
    "# same for subtraction and multiplication"
   ]
  },
  {
   "cell_type": "code",
   "execution_count": 20,
   "metadata": {},
   "outputs": [
    {
     "name": "stdout",
     "output_type": "stream",
     "text": [
      "0.9\n",
      "<class 'float'>\n"
     ]
    }
   ],
   "source": [
    "a = 4.5 / 5\n",
    "print (a)\n",
    "print (type (a))\n",
    "#this leaveas the quoitent as final answer"
   ]
  },
  {
   "cell_type": "code",
   "execution_count": 21,
   "metadata": {},
   "outputs": [
    {
     "name": "stdout",
     "output_type": "stream",
     "text": [
      "3.5\n",
      "<class 'float'>\n"
     ]
    }
   ],
   "source": [
    "a = 8.5 % 5\n",
    "print (a)\n",
    "print (type (a))\n",
    "#this leaves the remainder as the final answer"
   ]
  },
  {
   "cell_type": "code",
   "execution_count": 22,
   "metadata": {},
   "outputs": [
    {
     "name": "stdout",
     "output_type": "stream",
     "text": [
      "286511799958070431838109696\n",
      "<class 'int'>\n"
     ]
    }
   ],
   "source": [
    "a = 6**34\n",
    "print (a)\n",
    "print (type (a))"
   ]
  },
  {
   "cell_type": "code",
   "execution_count": 23,
   "metadata": {},
   "outputs": [
    {
     "name": "stdout",
     "output_type": "stream",
     "text": [
      "9\n",
      "<class 'int'>\n"
     ]
    }
   ],
   "source": [
    "a = 2234//235\n",
    "print (a)\n",
    "print (type (a))\n",
    "#division (for % and /) will always return a float value but floor division (//) will return integer always"
   ]
  },
  {
   "cell_type": "code",
   "execution_count": 24,
   "metadata": {},
   "outputs": [],
   "source": [
    "# comparision operators:\n",
    "#     == true, if it is equal\n",
    "#     != true, if not equal\n",
    "#     < less than\n",
    "#     > greater than\n",
    "#     <= less than equal to\n",
    "#     >= greater than equal to\n",
    "# assignment operators:\n",
    "#     =\n",
    "#     +=\n",
    "#     -=\n",
    "#     *=\n",
    "#     /=\n",
    "#     %=\n",
    "#     **=\n",
    "# logical operators:\n",
    "#     and\n",
    "#     or \n",
    "#     not"
   ]
  },
  {
   "cell_type": "code",
   "execution_count": 25,
   "metadata": {},
   "outputs": [],
   "source": [
    "#looking into the control flow"
   ]
  },
  {
   "cell_type": "code",
   "execution_count": 27,
   "metadata": {},
   "outputs": [
    {
     "name": "stdout",
     "output_type": "stream",
     "text": [
      "15\n",
      "A is greater than 10\n"
     ]
    }
   ],
   "source": [
    "a = int(input())\n",
    "if (a > 10):\n",
    "    print (\"A is greater than 10\")\n",
    "elif (a == 10):\n",
    "    print (\"A is equal to 10\")\n",
    "else:\n",
    "    print (\"A is less than 10\")"
   ]
  },
  {
   "cell_type": "code",
   "execution_count": 28,
   "metadata": {},
   "outputs": [],
   "source": [
    "# if-else statement syntax\n",
    "# if (condition):\n",
    "#     block\n",
    "# elif (condition):     elif = else if\n",
    "#     block\n",
    "# else (condition):\n",
    "#     block"
   ]
  },
  {
   "cell_type": "code",
   "execution_count": 29,
   "metadata": {},
   "outputs": [
    {
     "name": "stdout",
     "output_type": "stream",
     "text": [
      "15\n",
      "20\n",
      "25\n",
      "A is greater than 10\n",
      "B is lesser than C\n"
     ]
    }
   ],
   "source": [
    "a = int( input ())\n",
    "b = int( input ())\n",
    "c = int( input ())\n",
    "if (a > 10):\n",
    "    print (\"A is greater than 10\")\n",
    "    if (b > c):\n",
    "        print (\"B is greater than C\")\n",
    "    elif (b < c):\n",
    "        print (\"B is lesser than C\")\n",
    "    else:\n",
    "        print (\"B is equal to C\")\n",
    "elif (a == 10):\n",
    "    print (\"A is equal to 10\")\n",
    "    if (b > c):\n",
    "        print (\"B is greater than C\")\n",
    "    elif (b < c):\n",
    "        print (\"B is lesser than C\")\n",
    "    else:\n",
    "        print (\"B is equal to C\")\n",
    "else:\n",
    "    print (\"A is less than 10\")\n",
    "    if (b > c):\n",
    "        print (\"B is greater than C\")\n",
    "    elif (b < c):\n",
    "        print (\"B is lesser than C\")\n",
    "    else:\n",
    "        print (\"B is equal to C\")\n",
    "    "
   ]
  },
  {
   "cell_type": "code",
   "execution_count": 30,
   "metadata": {},
   "outputs": [],
   "source": [
    "# nested if-else syntax \n",
    "# if:\n",
    "#     if:\n",
    "#         block\n",
    "#     elif:\n",
    "#         block\n",
    "#     else:\n",
    "#         block\n",
    "# elif:\n",
    "#     if:\n",
    "#         block\n",
    "#     elif:\n",
    "#         block\n",
    "#     else:\n",
    "#         block\n",
    "# else:\n",
    "#     if:\n",
    "#         block\n",
    "#     elif:\n",
    "#         block\n",
    "#     else:\n",
    "#         block"
   ]
  },
  {
   "cell_type": "code",
   "execution_count": 31,
   "metadata": {},
   "outputs": [],
   "source": [
    "# while loop syntax:\n",
    "# while:\n",
    "#     block"
   ]
  },
  {
   "cell_type": "code",
   "execution_count": 32,
   "metadata": {},
   "outputs": [],
   "source": [
    "a = 10\n",
    "while a < 0:\n",
    "    print(a)\n",
    "    a -= 1"
   ]
  },
  {
   "cell_type": "code",
   "execution_count": 33,
   "metadata": {},
   "outputs": [
    {
     "name": "stdout",
     "output_type": "stream",
     "text": [
      "1\n",
      "3\n",
      "5\n",
      "7\n",
      "9\n"
     ]
    }
   ],
   "source": [
    "a = 1\n",
    "while a < 10:\n",
    "    print(a)\n",
    "    a += 2"
   ]
  },
  {
   "cell_type": "code",
   "execution_count": 34,
   "metadata": {},
   "outputs": [],
   "source": [
    "# for loop syntax\n",
    "# for variable in range (lower_end, higher_end):\n",
    "#     block"
   ]
  },
  {
   "cell_type": "code",
   "execution_count": 35,
   "metadata": {},
   "outputs": [
    {
     "name": "stdout",
     "output_type": "stream",
     "text": [
      "S\n",
      "i\n",
      "d\n",
      "d\n",
      "h\n",
      "a\n",
      "r\n",
      "t\n",
      "h\n",
      "a\n"
     ]
    }
   ],
   "source": [
    "for i in \"Siddhartha\":\n",
    "    print (i)"
   ]
  },
  {
   "cell_type": "code",
   "execution_count": 36,
   "metadata": {},
   "outputs": [
    {
     "name": "stdout",
     "output_type": "stream",
     "text": [
      "0.0\n",
      "0.01\n",
      "0.02\n",
      "0.03\n",
      "0.04\n",
      "0.05\n",
      "0.06\n",
      "0.07\n",
      "0.08\n",
      "0.09\n",
      "0.1\n",
      "0.11\n",
      "0.12\n",
      "0.13\n",
      "0.14\n",
      "0.15\n",
      "0.16\n",
      "0.17\n",
      "0.18\n",
      "0.19\n",
      "0.2\n",
      "0.21\n",
      "0.22\n",
      "0.23\n",
      "0.24\n",
      "0.25\n",
      "0.26\n",
      "0.27\n",
      "0.28\n",
      "0.29\n",
      "0.3\n",
      "0.31\n",
      "0.32\n",
      "0.33\n",
      "0.34\n",
      "0.35\n",
      "0.36\n",
      "0.37\n",
      "0.38\n",
      "0.39\n",
      "0.4\n",
      "0.41\n",
      "0.42\n",
      "0.43\n",
      "0.44\n",
      "0.45\n",
      "0.46\n",
      "0.47\n",
      "0.48\n",
      "0.49\n",
      "0.5\n",
      "0.51\n",
      "0.52\n",
      "0.53\n",
      "0.54\n",
      "0.55\n",
      "0.56\n",
      "0.57\n",
      "0.58\n",
      "0.59\n",
      "0.6\n",
      "0.61\n",
      "0.62\n",
      "0.63\n",
      "0.64\n",
      "0.65\n",
      "0.66\n",
      "0.67\n",
      "0.68\n",
      "0.69\n",
      "0.7\n",
      "0.71\n",
      "0.72\n",
      "0.73\n",
      "0.74\n",
      "0.75\n",
      "0.76\n",
      "0.77\n",
      "0.78\n",
      "0.79\n",
      "0.8\n",
      "0.81\n",
      "0.82\n",
      "0.83\n",
      "0.84\n",
      "0.85\n",
      "0.86\n",
      "0.87\n",
      "0.88\n",
      "0.89\n",
      "0.9\n",
      "0.91\n",
      "0.92\n",
      "0.93\n",
      "0.94\n",
      "0.95\n",
      "0.96\n",
      "0.97\n",
      "0.98\n",
      "0.99\n"
     ]
    }
   ],
   "source": [
    "for i in range (0,100):\n",
    "    a = i/100\n",
    "    print (a)\n",
    "    "
   ]
  },
  {
   "cell_type": "code",
   "execution_count": 37,
   "metadata": {},
   "outputs": [
    {
     "name": "stdout",
     "output_type": "stream",
     "text": [
      "1 2 3 4 5 6 7 8 9 10 \n",
      "2 4 6 8 10 12 14 16 18 20 \n",
      "3 6 9 12 15 18 21 24 27 30 \n",
      "4 8 12 16 20 24 28 32 36 40 \n",
      "5 10 15 20 25 30 35 40 45 50 \n",
      "6 12 18 24 30 36 42 48 54 60 \n",
      "7 14 21 28 35 42 49 56 63 70 \n",
      "8 16 24 32 40 48 56 64 72 80 \n",
      "9 18 27 36 45 54 63 72 81 90 \n",
      "10 20 30 40 50 60 70 80 90 100 \n"
     ]
    }
   ],
   "source": [
    "for i in range (1,11):\n",
    "    for j in range (1,11):\n",
    "        print (i*j,end = \" \")\n",
    "    print()"
   ]
  },
  {
   "cell_type": "code",
   "execution_count": 38,
   "metadata": {},
   "outputs": [],
   "source": [
    "# the above example is of nested for loop\n",
    "# nested loops are created by using loop inside a loop\n",
    "# syntax:\n",
    "# for variable_name1 in range (lower_end, higher_end):\n",
    "#     for variable_name2 in range (lower_end, higher_end):\n",
    "#         block"
   ]
  },
  {
   "cell_type": "code",
   "execution_count": 39,
   "metadata": {},
   "outputs": [
    {
     "name": "stdout",
     "output_type": "stream",
     "text": [
      "\n",
      "* \n",
      "* * \n",
      "* * * \n",
      "* * * * \n"
     ]
    }
   ],
   "source": [
    "# *\n",
    "# **\n",
    "# ***\n",
    "# ****\n",
    "for i in range (0,5):\n",
    "    for j in range (i):\n",
    "        print(\"*\", end = \" \")\n",
    "    print ()"
   ]
  },
  {
   "cell_type": "code",
   "execution_count": 40,
   "metadata": {},
   "outputs": [
    {
     "name": "stdout",
     "output_type": "stream",
     "text": [
      "\n",
      "1 \n",
      "2 2 \n",
      "3 3 3 \n",
      "4 4 4 4 \n",
      "5 5 5 5 5 \n",
      "6 6 6 6 6 6 \n",
      "7 7 7 7 7 7 7 \n",
      "8 8 8 8 8 8 8 8 \n",
      "9 9 9 9 9 9 9 9 9 \n"
     ]
    }
   ],
   "source": [
    "# 1\n",
    "# 2 2\n",
    "# 3 3 3\n",
    "# 4 4 4 4 \n",
    "# 5 5 5 5 5\n",
    "# 6 6 6 6 6 6\n",
    "# 7 7 7 7 7 7 7\n",
    "# 8 8 8 8 8 8 8 8\n",
    "# 9 9 9 9 9 9 9 9 9\n",
    "for num in range(10):\n",
    "    for i in range(num):\n",
    "        print (num, end=\" \")\n",
    "    print()"
   ]
  },
  {
   "cell_type": "code",
   "execution_count": 41,
   "metadata": {},
   "outputs": [
    {
     "name": "stdout",
     "output_type": "stream",
     "text": [
      "1 \n",
      "1 2 \n",
      "1 2 3 \n",
      "1 2 3 4 \n",
      "1 2 3 4 5 \n"
     ]
    }
   ],
   "source": [
    "# 1\n",
    "# 1 2\n",
    "# 1 2 3\n",
    "# 1 2 3 4 \n",
    "# 1 2 3 4 5\n",
    "lastNumber = 6\n",
    "for row in range(1, lastNumber):\n",
    "    for column in range(1, row + 1):\n",
    "        print(column, end=' ')\n",
    "    print()"
   ]
  },
  {
   "cell_type": "code",
   "execution_count": 42,
   "metadata": {},
   "outputs": [
    {
     "name": "stdout",
     "output_type": "stream",
     "text": [
      "1 \n",
      "2 1 \n",
      "3 2 1 \n",
      "4 3 2 1 \n",
      "5 4 3 2 1 \n"
     ]
    }
   ],
   "source": [
    "# 1\n",
    "# 2 1\n",
    "# 3 2 1\n",
    "# 4 3 2 1\n",
    "# 5 4 3 2 1\n",
    "lastNumber = 6\n",
    "for row in range(1, lastNumber):\n",
    "    for column in range(row, 0, -1):\n",
    "        print(column, end=' ')\n",
    "    print()"
   ]
  },
  {
   "cell_type": "code",
   "execution_count": 43,
   "metadata": {},
   "outputs": [
    {
     "name": "stdout",
     "output_type": "stream",
     "text": [
      "   1 \n",
      "   2    1 \n",
      "   4    2    1 \n",
      "   8    4    2    1 \n",
      "  16    8    4    2    1 \n",
      "  32   16    8    4    2    1 \n",
      "  64   32   16    8    4    2    1 \n",
      " 128   64   32   16    8    4    2    1 \n"
     ]
    }
   ],
   "source": [
    "#  1\n",
    "#  2   1\n",
    "#  4   2  1\n",
    "#  8   4  2  1\n",
    "# 16   8  4  2  1\n",
    "# 32  16  8  4  2  1\n",
    "# 64  32 16  8  4  2  1\n",
    "# 128 64 32 16  8  4  2  1\n",
    "lastNumber = 9\n",
    "for i in range(1, lastNumber):\n",
    "    for j in range(-1+i, -1, -1):\n",
    "        print(format(2**j, \"4d\"), end=' ')\n",
    "    print()"
   ]
  },
  {
   "cell_type": "code",
   "execution_count": 44,
   "metadata": {},
   "outputs": [
    {
     "name": "stdout",
     "output_type": "stream",
     "text": [
      "1 \n",
      "2 3 4 \n",
      "5 6 7 8 9 \n"
     ]
    }
   ],
   "source": [
    "# 1\n",
    "# 2 3 4\n",
    "# 5 6 7 8 9\n",
    "currentNumber = 1\n",
    "stop = 2\n",
    "rows = 3\n",
    "for i in range(rows):\n",
    "    for column in range(1, stop):\n",
    "        print(currentNumber, end=' ')\n",
    "        currentNumber += 1\n",
    "    print(\"\")\n",
    "    stop += 2"
   ]
  },
  {
   "cell_type": "code",
   "execution_count": 45,
   "metadata": {},
   "outputs": [
    {
     "name": "stdout",
     "output_type": "stream",
     "text": [
      "1 \n",
      "3 2 \n",
      "6 5 4 \n",
      "10 9 8 7 \n"
     ]
    }
   ],
   "source": [
    "#  1\n",
    "#  3 2\n",
    "#  6 5 4\n",
    "# 10 9 8 7\n",
    "start = 1\n",
    "stop = 2\n",
    "currentNumber = stop\n",
    "for row in range(2, 6):\n",
    "    for col in range(start, stop):\n",
    "        currentNumber -= 1\n",
    "        print (currentNumber, end=' ')\n",
    "    print(\"\")\n",
    "    start = stop\n",
    "    stop +=row\n",
    "    currentNumber = stop"
   ]
  },
  {
   "cell_type": "code",
   "execution_count": 46,
   "metadata": {},
   "outputs": [
    {
     "name": "stdout",
     "output_type": "stream",
     "text": [
      "            *   \n",
      "           *  *   \n",
      "          *  *  *   \n",
      "         *  *  *  *   \n",
      "        *  *  *  *  *   \n",
      "       *  *  *  *  *  *   \n",
      "      *  *  *  *  *  *  *   \n"
     ]
    }
   ],
   "source": [
    "#             *   \n",
    "#            *  *   \n",
    "#           *  *  *   \n",
    "#          *  *  *  *   \n",
    "#         *  *  *  *  *   \n",
    "#        *  *  *  *  *  *   \n",
    "#       *  *  *  *  *  *  * \n",
    "size = 7\n",
    "m = (2 * size) - 2\n",
    "for i in range(0, size):\n",
    "    for j in range(0, m):\n",
    "        print(end=\" \")\n",
    "    m = m - 1 # decrementing m after each loop\n",
    "    for j in range(0, i + 1):\n",
    "        # printing full Triangle pyramid using stars\n",
    "        print(\"* \", end=' ')\n",
    "    print(\" \")"
   ]
  },
  {
   "cell_type": "code",
   "execution_count": 47,
   "metadata": {},
   "outputs": [
    {
     "name": "stdout",
     "output_type": "stream",
     "text": [
      "Enter number of rows 6\n",
      "* * * * * * * \n",
      "* * * * * * \n",
      "* * * * * \n",
      "* * * * \n",
      "* * * \n",
      "* * \n",
      "* \n"
     ]
    }
   ],
   "source": [
    "# * * * * * * \n",
    "# * * * * * \n",
    "# * * * * \n",
    "# * * * \n",
    "# * * \n",
    "# * \n",
    "rows = int (input(\"Enter number of rows \"))\n",
    "for i in range (rows,-1,-1):\n",
    "    for j in range(0, i + 1):\n",
    "        print(\"*\", end=' ')\n",
    "    print(\"\\r\")"
   ]
  },
  {
   "cell_type": "code",
   "execution_count": 48,
   "metadata": {},
   "outputs": [
    {
     "name": "stdout",
     "output_type": "stream",
     "text": [
      "Enter max star to be display on single line5\n",
      "* \n",
      "* * \n",
      "* * * \n",
      "* * * * \n",
      "* * * * * \n",
      "* * * * \n",
      "* * * \n",
      "* * \n",
      "* \n",
      "\n"
     ]
    }
   ],
   "source": [
    "# * \n",
    "# * * \n",
    "# * * * \n",
    "# * * * * \n",
    "# * * * * * \n",
    "# * * * * \n",
    "# * * * \n",
    "# * * \n",
    "# * \n",
    "rows = input(\"Enter max star to be display on single line\")\n",
    "rows = int (rows)\n",
    "for i in range (0, rows):\n",
    "    for j in range(0, i + 1):\n",
    "        print(\"*\", end=' ')\n",
    "    print(\"\\r\")\n",
    "for i in range (rows, 0, -1):\n",
    "    for j in range(0, i -1):\n",
    "        print(\"*\", end=' ')\n",
    "    print(\"\\r\")"
   ]
  },
  {
   "cell_type": "code",
   "execution_count": 49,
   "metadata": {},
   "outputs": [
    {
     "name": "stdout",
     "output_type": "stream",
     "text": [
      "Enter number of rows 5\n",
      "0 1 2 3 4 5 \n",
      "0 1 2 3 4 \n",
      "0 1 2 3 \n",
      "0 1 2 \n",
      "0 1 \n",
      "0 \n"
     ]
    }
   ],
   "source": [
    "# 0 1 2 3 4 5 \n",
    "# 0 1 2 3 4 \n",
    "# 0 1 2 3 \n",
    "# 0 1 2 \n",
    "# 0 1 \n",
    "# 0 \n",
    "rows = input(\"Enter number of rows \")\n",
    "rows = int (rows)\n",
    "for i in range (rows,-1,-1):\n",
    "    for j in range(0, i + 1):\n",
    "        print(j, end=' ')\n",
    "    print(\"\\r\")"
   ]
  },
  {
   "cell_type": "code",
   "execution_count": 50,
   "metadata": {},
   "outputs": [
    {
     "name": "stdout",
     "output_type": "stream",
     "text": [
      "        * \r\n",
      "      * * \r\n",
      "    * * * \r\n",
      "  * * * * \r\n",
      "* * * * * \r\n"
     ]
    }
   ],
   "source": [
    "#         *\n",
    "#       * *\n",
    "#     * * *\n",
    "#   * * * *\n",
    "# * * * * *\n",
    "n = 5\n",
    "k = 2*n - 2\n",
    "for i in range(0, n):\n",
    "    for j in range(0, k): \n",
    "        print(end=\" \") \n",
    "    k = k - 2\n",
    "    for j in range(0, i+1): \n",
    "            print(\"* \", end=\"\") \n",
    "    print(\"\\r\") "
   ]
  },
  {
   "cell_type": "code",
   "execution_count": 51,
   "metadata": {},
   "outputs": [
    {
     "name": "stdout",
     "output_type": "stream",
     "text": [
      "        * \r\n",
      "       * * \r\n",
      "      * * * \r\n",
      "     * * * * \r\n",
      "    * * * * * \r\n"
     ]
    }
   ],
   "source": [
    "#     *\n",
    "#    * *\n",
    "#   * * *\n",
    "#  * * * *\n",
    "# * * * * *\n",
    "n = 5\n",
    "k = 2*n - 2\n",
    "for i in range(0, n): \n",
    "    for j in range(0, k): \n",
    "        print(end=\" \") \n",
    "    k = k - 1\n",
    "    for j in range(0, i+1): \n",
    "        print(\"* \", end=\"\") \n",
    "    print(\"\\r\") \n"
   ]
  },
  {
   "cell_type": "code",
   "execution_count": 52,
   "metadata": {},
   "outputs": [
    {
     "name": "stdout",
     "output_type": "stream",
     "text": [
      "1 \r\n",
      "2 3 \r\n",
      "4 5 6 \r\n",
      "7 8 9 10 \r\n",
      "11 12 13 14 15 \r\n"
     ]
    }
   ],
   "source": [
    "#  1\n",
    "#  2  3\n",
    "#  4  5  6\n",
    "#  7  8  9 10\n",
    "# 11 12 13 14 15\n",
    "n = 5\n",
    "num = 1\n",
    "for i in range(0, n): \n",
    "    for j in range(0, i+1): \n",
    "        print(num, end=\" \") \n",
    "        num = num + 1\n",
    "    print(\"\\r\")"
   ]
  },
  {
   "cell_type": "code",
   "execution_count": 53,
   "metadata": {},
   "outputs": [
    {
     "name": "stdout",
     "output_type": "stream",
     "text": [
      "A \r\n",
      "B B \r\n",
      "C C C \r\n",
      "D D D D \r\n",
      "E E E E E \r\n"
     ]
    }
   ],
   "source": [
    "# A\n",
    "# B B\n",
    "# C C C\n",
    "# D D D D\n",
    "# E E E E E\n",
    "num = 65 # ASCII value of A\n",
    "for i in range(0, n): \n",
    "    for j in range(0, i+1): \n",
    "        ch = chr(num) #converting ascii to char\n",
    "        print(ch, end=\" \") \n",
    "    num = num + 1\n",
    "    print(\"\\r\") "
   ]
  },
  {
   "cell_type": "code",
   "execution_count": 54,
   "metadata": {},
   "outputs": [
    {
     "name": "stdout",
     "output_type": "stream",
     "text": [
      "A \r\n",
      "B C \r\n",
      "D E F \r\n",
      "G H I J \r\n",
      "K L M N O \r\n"
     ]
    }
   ],
   "source": [
    "# A\n",
    "# B C\n",
    "# D E F\n",
    "# G H I J\n",
    "# K L M N O\n",
    "n = 5\n",
    "num = 65 #ASCII value of A\n",
    "for i in range(0, n): \n",
    "    for j in range(0, i+1): \n",
    "        ch = chr(num) #converting ascii to char\n",
    "        print(ch, end=\" \") \n",
    "        num = num +1\n",
    "    print(\"\\r\") "
   ]
  },
  {
   "cell_type": "code",
   "execution_count": 55,
   "metadata": {},
   "outputs": [
    {
     "name": "stdout",
     "output_type": "stream",
     "text": [
      "  *\n",
      " ***\n",
      "*****\n"
     ]
    }
   ],
   "source": [
    "#   *\n",
    "#  ***\n",
    "# *****\n",
    "n = 3\n",
    "for i in range(1, n+1):\n",
    "    print(\" \"*(n-i) + \"*\"*i + \"*\"*(i-1))"
   ]
  },
  {
   "cell_type": "code",
   "execution_count": 56,
   "metadata": {},
   "outputs": [
    {
     "name": "stdout",
     "output_type": "stream",
     "text": [
      "6\n",
      "6 6 6 6 6 6 \n",
      "6 5 5 5 5 6 \n",
      "6 5 4 4 5 6 \n",
      "6 5 4 4 5 6 \n",
      "6 5 5 5 5 6 \n",
      "6 6 6 6 6 6 \n"
     ]
    }
   ],
   "source": [
    "# 6 6 6 6 6 6\n",
    "# 6 5 5 5 5 6\n",
    "# 6 5 4 4 5 6\n",
    "# 6 5 4 4 5 6\n",
    "# 6 5 5 5 5 6\n",
    "# 6 6 6 6 6 6 \n",
    "n = int (input ())\n",
    "for i in range(0,n):\n",
    "    for j in range(0,n):\n",
    "        print(max(i+1,j+1,n-i,n-j), end=\" \")\n",
    "    print()"
   ]
  },
  {
   "cell_type": "code",
   "execution_count": 57,
   "metadata": {},
   "outputs": [
    {
     "name": "stdout",
     "output_type": "stream",
     "text": [
      "5 5 5 5 5 \n",
      "5 4 4 4 5 \n",
      "5 4 3 4 5 \n",
      "5 4 4 4 5 \n",
      "5 5 5 5 5 \n"
     ]
    }
   ],
   "source": [
    "# 5 5 5 5 5\n",
    "# 5 4 4 4 5\n",
    "# 5 4 3 4 5\n",
    "# 5 4 4 4 5\n",
    "# 5 5 5 5 5\n",
    "n = 5\n",
    "for i in range(n):\n",
    "    for j in range(n):\n",
    "        print(n-min(i, j, n-i-1, n-j-1), end = ' ' )\n",
    "    print()"
   ]
  },
  {
   "cell_type": "code",
   "execution_count": 58,
   "metadata": {},
   "outputs": [
    {
     "name": "stdout",
     "output_type": "stream",
     "text": [
      "1 1 1 1 1 \n",
      "1 2 2 2 1 \n",
      "1 2 3 2 1 \n",
      "1 2 2 2 1 \n",
      "1 1 1 1 1 \n"
     ]
    }
   ],
   "source": [
    "# 1 1 1 1 1\n",
    "# 1 2 2 2 1\n",
    "# 1 2 3 2 1\n",
    "# 1 2 2 2 1\n",
    "# 1 1 1 1 1\n",
    "n = 5\n",
    "for i in range(n):\n",
    "    for j in range(n):\n",
    "        print(n-max(i, j, n-i-1, n-j-1), end = ' ' )\n",
    "    print()"
   ]
  },
  {
   "cell_type": "code",
   "execution_count": 59,
   "metadata": {},
   "outputs": [],
   "source": [
    "# using break continue and pass"
   ]
  },
  {
   "cell_type": "code",
   "execution_count": 60,
   "metadata": {},
   "outputs": [
    {
     "name": "stdout",
     "output_type": "stream",
     "text": [
      "0\n",
      "1\n",
      "2\n",
      "3\n",
      "4\n",
      "6\n",
      "7\n",
      "8\n",
      "9\n",
      "11\n",
      "12\n",
      "13\n",
      "14\n"
     ]
    }
   ],
   "source": [
    "for i in range (0,20):\n",
    "    if (i == 5):\n",
    "        pass\n",
    "    elif (i == 10):\n",
    "        continue\n",
    "    elif (i ==15):\n",
    "        break\n",
    "    else:\n",
    "        print (i)"
   ]
  },
  {
   "cell_type": "code",
   "execution_count": 61,
   "metadata": {},
   "outputs": [],
   "source": [
    "#id comparision and using is operator"
   ]
  },
  {
   "cell_type": "code",
   "execution_count": 62,
   "metadata": {},
   "outputs": [
    {
     "name": "stdout",
     "output_type": "stream",
     "text": [
      "1399874800\n",
      "1399874800\n"
     ]
    }
   ],
   "source": [
    "a = 10\n",
    "b = 10\n",
    "print (id (a))\n",
    "print (id (b))"
   ]
  },
  {
   "cell_type": "code",
   "execution_count": 63,
   "metadata": {},
   "outputs": [
    {
     "name": "stdout",
     "output_type": "stream",
     "text": [
      "True\n"
     ]
    }
   ],
   "source": [
    "print (a is b)"
   ]
  },
  {
   "cell_type": "code",
   "execution_count": 64,
   "metadata": {},
   "outputs": [
    {
     "name": "stdout",
     "output_type": "stream",
     "text": [
      "4.199999999999999\n"
     ]
    }
   ],
   "source": [
    "#reasoning question...\n",
    "n = 1.2 + 1.4 + 1.6\n",
    "print (n)"
   ]
  },
  {
   "cell_type": "code",
   "execution_count": 65,
   "metadata": {},
   "outputs": [],
   "source": [
    "# functions\n",
    "# syntax:\n",
    "# def function_name():\n",
    "#     block"
   ]
  },
  {
   "cell_type": "code",
   "execution_count": 66,
   "metadata": {},
   "outputs": [],
   "source": [
    "def func():\n",
    "    print (\"Hello World\")"
   ]
  },
  {
   "cell_type": "code",
   "execution_count": 67,
   "metadata": {},
   "outputs": [
    {
     "name": "stdout",
     "output_type": "stream",
     "text": [
      "Hello World\n"
     ]
    }
   ],
   "source": [
    "func()"
   ]
  },
  {
   "cell_type": "code",
   "execution_count": 68,
   "metadata": {},
   "outputs": [],
   "source": [
    "# functions with parameters\n",
    "# syntax:\n",
    "# def function_name (variable1, variable2, ...):\n",
    "#     block:"
   ]
  },
  {
   "cell_type": "code",
   "execution_count": 69,
   "metadata": {},
   "outputs": [
    {
     "name": "stdout",
     "output_type": "stream",
     "text": [
      "repeat hello there\n",
      "repeat hello there\n",
      "repeat hello there\n",
      "seperation\n",
      "repeat variables are random\n",
      "repeat variables are random\n",
      "repeat variables are random\n"
     ]
    }
   ],
   "source": [
    "def printing_lines(var1, var2 = \"random\"):\n",
    "    print (\"repeat {} {}\".format (var1,var2))\n",
    "    print (\"repeat {} {}\".format (var1,var2))\n",
    "    print (\"repeat {} {}\".format (var1,var2))\n",
    "printing_lines(\"hello\",\"there\")\n",
    "print(\"seperation\")\n",
    "printing_lines(\"variables are\")\n"
   ]
  },
  {
   "cell_type": "code",
   "execution_count": 70,
   "metadata": {},
   "outputs": [],
   "source": [
    "# functions with returning values\n",
    "# syntax:\n",
    "# def function_name (variable1, variable2, ...):\n",
    "#     block\n",
    "#     return condtion"
   ]
  },
  {
   "cell_type": "code",
   "execution_count": 73,
   "metadata": {},
   "outputs": [
    {
     "name": "stdout",
     "output_type": "stream",
     "text": [
      "54\n",
      "23\n",
      "523\n",
      "600\n",
      "649566\n"
     ]
    },
    {
     "data": {
      "text/plain": [
       "(600, 649566, 'Yeah!')"
      ]
     },
     "execution_count": 73,
     "metadata": {},
     "output_type": "execute_result"
    }
   ],
   "source": [
    "a = int(input ())\n",
    "b = int(input ())\n",
    "c = int(input ())\n",
    "def returnaddmul(a, b, c):\n",
    "    print(a+b+c)\n",
    "    print(a*b*c)\n",
    "    return a+b+c, a*b*c, \"Yeah!\" \n",
    "# multiple returns can not be used but one return can be used for multiple uses\n",
    "returnaddmul(a,b,c)"
   ]
  },
  {
   "cell_type": "code",
   "execution_count": 72,
   "metadata": {},
   "outputs": [],
   "source": [
    "# args and kwargs \n",
    "# args are used for the unassigned data variable in the function parameters when too many inputs are given\n",
    "# by the user and the programmer has no idea about the input data or width\n",
    "# used as: *args        type: tuple\n",
    "# kwargs are used when the there are unassigned data to be passed along with there keywords that are to be\n",
    "# stored by the programmer when the user input amount is uncertain\n",
    "# used as: **kwargs     type: dictionary"
   ]
  },
  {
   "cell_type": "code",
   "execution_count": 74,
   "metadata": {},
   "outputs": [
    {
     "name": "stdout",
     "output_type": "stream",
     "text": [
      "bipin\n",
      "kalra\n",
      "('is', 'teaching', 'machine')\n",
      "teaching\n",
      "{'d': 'learning', 'c': 'with', 'e': 'Python'}\n",
      "<class 'dict'>\n",
      "\n",
      "('d', 'learning')\n",
      "('c', 'with')\n",
      "('e', 'Python')\n"
     ]
    }
   ],
   "source": [
    "def some_func(a,b,*args,**kwargs):\n",
    "    print(a)\n",
    "    print(b)\n",
    "    print(args)\n",
    "    print(args[1])\n",
    "    print(kwargs)\n",
    "    print(type(kwargs))\n",
    "    \n",
    "    print()\n",
    "    \n",
    "    for i in kwargs.items():\n",
    "        print(i)\n",
    "        \n",
    "some_func(\"bipin\",\"kalra\",\"is\",\"teaching\",\"machine\",d = \"learning\", c = \"with\", e = \"Python\")\n",
    "# here \"is\", \"teaching\", \"machine\" are stored in *args and \n",
    "# d = \"learning\", c = \"with\", e = \"Python\" are stored in **kwargs"
   ]
  },
  {
   "cell_type": "code",
   "execution_count": 75,
   "metadata": {},
   "outputs": [],
   "source": [
    "# local and global variables"
   ]
  },
  {
   "cell_type": "code",
   "execution_count": 76,
   "metadata": {},
   "outputs": [],
   "source": [
    "# global variables are called explicitely for the proper invocation of the variable without error\n",
    "x = 10\n",
    "\n",
    "def somefunc1():\n",
    "    global x\n",
    "    print (x)\n",
    "    x += 10\n",
    "    print (x)"
   ]
  },
  {
   "cell_type": "code",
   "execution_count": 77,
   "metadata": {},
   "outputs": [
    {
     "name": "stdout",
     "output_type": "stream",
     "text": [
      "10\n",
      "20\n"
     ]
    }
   ],
   "source": [
    "somefunc1()"
   ]
  },
  {
   "cell_type": "code",
   "execution_count": 78,
   "metadata": {},
   "outputs": [
    {
     "name": "stdout",
     "output_type": "stream",
     "text": [
      "10\n",
      "15\n",
      "15\n"
     ]
    }
   ],
   "source": [
    "# nonlocal variables are made to inherit the variables data from the parent function/class\n",
    "def outer():\n",
    "    x = 10\n",
    "    \n",
    "    def inner():\n",
    "        nonlocal x # nonlocal keyword is used to access variables in your parent block's scope\n",
    "        print (x)\n",
    "        x += 5\n",
    "        print (x)\n",
    "    \n",
    "    inner()\n",
    "    print (x)\n",
    "    \n",
    "outer()"
   ]
  },
  {
   "cell_type": "code",
   "execution_count": 79,
   "metadata": {},
   "outputs": [],
   "source": [
    "# lambda function\n",
    "# lambda function are used for converion of the complex functions with the return statement to a\n",
    "# single line function using the keyword lambda\n",
    "# syntax:\n",
    "# function_name = lambda var1, var2, ... : return_statement\n",
    "# return_statement is the initial statement that was supposed to be retured by the function "
   ]
  },
  {
   "cell_type": "code",
   "execution_count": 80,
   "metadata": {},
   "outputs": [
    {
     "name": "stdout",
     "output_type": "stream",
     "text": [
      "25\n",
      "PythonML\n"
     ]
    }
   ],
   "source": [
    "add = lambda a, b : a + b\n",
    "print (add(10,15))\n",
    "print (add(\"Python\",\"ML\"))"
   ]
  },
  {
   "cell_type": "code",
   "execution_count": 81,
   "metadata": {},
   "outputs": [
    {
     "name": "stdout",
     "output_type": "stream",
     "text": [
      "150\n",
      "hello hello hello \n",
      "world world world \n"
     ]
    }
   ],
   "source": [
    "mul = lambda a, b : a * b\n",
    "print (mul(10,15))\n",
    "print (mul(\"hello \",3))\n",
    "print (mul(3,\"world \"))"
   ]
  },
  {
   "cell_type": "code",
   "execution_count": 82,
   "metadata": {},
   "outputs": [],
   "source": [
    "a = [(\"abhinav\",80,4),(\"somya\",85,6),(\"anishka\",60,1),(\"mukul\",23,3),(\"kartikey\",56,5)]"
   ]
  },
  {
   "cell_type": "code",
   "execution_count": 83,
   "metadata": {},
   "outputs": [
    {
     "data": {
      "text/plain": [
       "[('abhinav', 80, 4),\n",
       " ('anishka', 60, 1),\n",
       " ('kartikey', 56, 5),\n",
       " ('mukul', 23, 3),\n",
       " ('somya', 85, 6)]"
      ]
     },
     "execution_count": 83,
     "metadata": {},
     "output_type": "execute_result"
    }
   ],
   "source": [
    "sorted(a)"
   ]
  },
  {
   "cell_type": "code",
   "execution_count": 84,
   "metadata": {},
   "outputs": [
    {
     "data": {
      "text/plain": [
       "[('anishka', 60, 1),\n",
       " ('mukul', 23, 3),\n",
       " ('abhinav', 80, 4),\n",
       " ('kartikey', 56, 5),\n",
       " ('somya', 85, 6)]"
      ]
     },
     "execution_count": 84,
     "metadata": {},
     "output_type": "execute_result"
    }
   ],
   "source": [
    "sorted(a,key = lambda x: x[2])"
   ]
  },
  {
   "cell_type": "code",
   "execution_count": 85,
   "metadata": {},
   "outputs": [],
   "source": [
    "# string"
   ]
  },
  {
   "cell_type": "code",
   "execution_count": 86,
   "metadata": {},
   "outputs": [
    {
     "ename": "TypeError",
     "evalue": "'str' object does not support item assignment",
     "output_type": "error",
     "traceback": [
      "\u001b[1;31m---------------------------------------------------------------------------\u001b[0m",
      "\u001b[1;31mTypeError\u001b[0m                                 Traceback (most recent call last)",
      "\u001b[1;32m<ipython-input-86-e480bccf3643>\u001b[0m in \u001b[0;36m<module>\u001b[1;34m\u001b[0m\n\u001b[0;32m      1\u001b[0m \u001b[0ma\u001b[0m \u001b[1;33m=\u001b[0m \u001b[1;34m\"Siddhartha\"\u001b[0m\u001b[1;33m\u001b[0m\u001b[1;33m\u001b[0m\u001b[0m\n\u001b[1;32m----> 2\u001b[1;33m \u001b[0ma\u001b[0m \u001b[1;33m[\u001b[0m\u001b[1;36m2\u001b[0m\u001b[1;33m]\u001b[0m \u001b[1;33m=\u001b[0m \u001b[0ma\u001b[0m\u001b[1;33m\u001b[0m\u001b[1;33m\u001b[0m\u001b[0m\n\u001b[0m",
      "\u001b[1;31mTypeError\u001b[0m: 'str' object does not support item assignment"
     ]
    }
   ],
   "source": [
    "a = \"Siddhartha\"\n",
    "a [2] = a\n"
   ]
  },
  {
   "cell_type": "code",
   "execution_count": 87,
   "metadata": {},
   "outputs": [],
   "source": [
    "# in the above example we can clearly see that we can not change the value in a string \n",
    "# this is because the strings in python are immutable "
   ]
  },
  {
   "cell_type": "code",
   "execution_count": 88,
   "metadata": {},
   "outputs": [
    {
     "name": "stdout",
     "output_type": "stream",
     "text": [
      "              Hello        my - name - is        Siddhartha - Satyarthi         \n",
      "Hello        my - name - is        Siddhartha - Satyarthi\n",
      "['              Hello        my ', ' name ', ' is        Siddhartha ', ' Satyarthi         ']\n"
     ]
    }
   ],
   "source": [
    "alpha = \"              Hello        my - name - is        Siddhartha - Satyarthi         \"\n",
    "print (alpha)\n",
    "print (alpha.strip())\n",
    "print (alpha.split(\"-\"))"
   ]
  },
  {
   "cell_type": "code",
   "execution_count": 89,
   "metadata": {},
   "outputs": [],
   "source": [
    "# in the above example we can see that alpha.strip clears all the spaces that are present at the \n",
    "# begging and at the end of the string and the split functions breaks my string from the places\n",
    "# where the function symbol is present and the default for this fucntion is space"
   ]
  },
  {
   "cell_type": "code",
   "execution_count": 90,
   "metadata": {},
   "outputs": [
    {
     "data": {
      "text/plain": [
       "80"
      ]
     },
     "execution_count": 90,
     "metadata": {},
     "output_type": "execute_result"
    }
   ],
   "source": [
    "len(alpha) # prints the length of the string"
   ]
  },
  {
   "cell_type": "code",
   "execution_count": 91,
   "metadata": {},
   "outputs": [
    {
     "data": {
      "text/plain": [
       "'SiddharthaSatyarthi'"
      ]
     },
     "execution_count": 91,
     "metadata": {},
     "output_type": "execute_result"
    }
   ],
   "source": [
    "a = \"Siddhartha\" + \"Satyarthi\"\n",
    "a"
   ]
  },
  {
   "cell_type": "code",
   "execution_count": 92,
   "metadata": {},
   "outputs": [],
   "source": [
    "# slicing: \n",
    "# slicing is used for the using the middle of the string as and when we wanted\n",
    "# syntax:\n",
    "# string_variable[staring_position:end_position]"
   ]
  },
  {
   "cell_type": "code",
   "execution_count": 93,
   "metadata": {},
   "outputs": [
    {
     "data": {
      "text/plain": [
       "'dharthaSa'"
      ]
     },
     "execution_count": 93,
     "metadata": {},
     "output_type": "execute_result"
    }
   ],
   "source": [
    "a[3:12]"
   ]
  },
  {
   "cell_type": "code",
   "execution_count": 94,
   "metadata": {},
   "outputs": [
    {
     "data": {
      "text/plain": [
       "'ihtraytaSahtrahddiS'"
      ]
     },
     "execution_count": 94,
     "metadata": {},
     "output_type": "execute_result"
    }
   ],
   "source": [
    "# -1 is used for starting the indexing from opposite side and blanks are used to select complete string\n",
    "a[::-1]"
   ]
  },
  {
   "cell_type": "code",
   "execution_count": 95,
   "metadata": {},
   "outputs": [],
   "source": [
    "#lists"
   ]
  },
  {
   "cell_type": "code",
   "execution_count": 96,
   "metadata": {},
   "outputs": [
    {
     "name": "stdout",
     "output_type": "stream",
     "text": [
      "<class 'list'>\n"
     ]
    }
   ],
   "source": [
    "a = [1, 2, 3, 4, 5]\n",
    "print (type (a))"
   ]
  },
  {
   "cell_type": "code",
   "execution_count": 97,
   "metadata": {},
   "outputs": [
    {
     "name": "stdout",
     "output_type": "stream",
     "text": [
      "100847904\n"
     ]
    }
   ],
   "source": [
    "print (id (a))"
   ]
  },
  {
   "cell_type": "code",
   "execution_count": 98,
   "metadata": {},
   "outputs": [
    {
     "name": "stdout",
     "output_type": "stream",
     "text": [
      "[1, 2, 3, 12, 5]\n"
     ]
    }
   ],
   "source": [
    "a[3] = 12\n",
    "print (a)"
   ]
  },
  {
   "cell_type": "code",
   "execution_count": 99,
   "metadata": {},
   "outputs": [],
   "source": [
    "# as in above example we can see that the value assigned to the index is changed thus we can conclude\n",
    "# that the strings are mutable "
   ]
  },
  {
   "cell_type": "code",
   "execution_count": 100,
   "metadata": {},
   "outputs": [
    {
     "name": "stdout",
     "output_type": "stream",
     "text": [
      "1\n",
      "2\n",
      "3\n",
      "4\n",
      "5\n",
      "6\n",
      "hello\n",
      "my\n",
      "name\n",
      "is\n",
      "siddhartha\n",
      "satyarthi\n",
      "[4, 5, 6, 7, 8]\n",
      "[2, 54, 4, 6, 32]\n"
     ]
    }
   ],
   "source": [
    "b = [1,2,3,4,5,6,\"hello\",\"my\",\"name\",\"is\",\"siddhartha\",\"satyarthi\",[4,5,6,7,8],[2,54,4,6,32]]\n",
    "for i in b:\n",
    "    print (i)\n",
    "# in the above example we can clearly see that list can hold muliple values and are heterogenous \n",
    "# collection of elements"
   ]
  },
  {
   "cell_type": "code",
   "execution_count": 101,
   "metadata": {},
   "outputs": [
    {
     "name": "stdout",
     "output_type": "stream",
     "text": [
      "1399874656\n",
      "12128088\n"
     ]
    }
   ],
   "source": [
    "a = [1,2,3,4,5]\n",
    "print (id (a[0]))\n",
    "print (id (a))"
   ]
  },
  {
   "cell_type": "code",
   "execution_count": 102,
   "metadata": {},
   "outputs": [],
   "source": [
    "# appending and inserting"
   ]
  },
  {
   "cell_type": "code",
   "execution_count": 103,
   "metadata": {},
   "outputs": [
    {
     "name": "stdout",
     "output_type": "stream",
     "text": [
      "[1, 2, 3, 4, 5, 6, 45]\n",
      "[1, 2, 3, 4, 12, 5, 6, 45]\n"
     ]
    }
   ],
   "source": [
    "a = [1,2,3,4,5,6]\n",
    "a.append(45)\n",
    "print (a)\n",
    "a.insert(4,12)\n",
    "print (a)"
   ]
  },
  {
   "cell_type": "code",
   "execution_count": 104,
   "metadata": {},
   "outputs": [],
   "source": [
    "# removing elements from list using\n",
    "# del\n",
    "# pop\n",
    "# remove"
   ]
  },
  {
   "cell_type": "code",
   "execution_count": 105,
   "metadata": {},
   "outputs": [
    {
     "name": "stdout",
     "output_type": "stream",
     "text": [
      "[1, 2, 3, 4, 6, 7, 8, 9, 0]\n",
      "[1, 2, 3, 4, 6, 7, 8, 9]\n",
      "[1, 2, 4, 6, 7, 8, 9]\n"
     ]
    },
    {
     "ename": "NameError",
     "evalue": "name 'a' is not defined",
     "output_type": "error",
     "traceback": [
      "\u001b[1;31m---------------------------------------------------------------------------\u001b[0m",
      "\u001b[1;31mNameError\u001b[0m                                 Traceback (most recent call last)",
      "\u001b[1;32m<ipython-input-105-eedd0f5fd30a>\u001b[0m in \u001b[0;36m<module>\u001b[1;34m\u001b[0m\n\u001b[0;32m      7\u001b[0m \u001b[0mprint\u001b[0m \u001b[1;33m(\u001b[0m\u001b[0ma\u001b[0m\u001b[1;33m)\u001b[0m\u001b[1;33m\u001b[0m\u001b[1;33m\u001b[0m\u001b[0m\n\u001b[0;32m      8\u001b[0m \u001b[1;32mdel\u001b[0m \u001b[0ma\u001b[0m\u001b[1;33m\u001b[0m\u001b[1;33m\u001b[0m\u001b[0m\n\u001b[1;32m----> 9\u001b[1;33m \u001b[0mprint\u001b[0m \u001b[1;33m(\u001b[0m\u001b[0ma\u001b[0m\u001b[1;33m)\u001b[0m\u001b[1;33m\u001b[0m\u001b[1;33m\u001b[0m\u001b[0m\n\u001b[0m",
      "\u001b[1;31mNameError\u001b[0m: name 'a' is not defined"
     ]
    }
   ],
   "source": [
    "a = [1, 2, 3, 4, 5, 6, 7, 8, 9, 0]\n",
    "a.remove(5)\n",
    "print (a)\n",
    "a.pop()\n",
    "print (a)\n",
    "del a[2]\n",
    "print (a)\n",
    "del a\n",
    "print (a)"
   ]
  },
  {
   "cell_type": "code",
   "execution_count": 106,
   "metadata": {},
   "outputs": [],
   "source": [
    "# sorting and reversing"
   ]
  },
  {
   "cell_type": "code",
   "execution_count": 107,
   "metadata": {},
   "outputs": [
    {
     "data": {
      "text/plain": [
       "[1, 1, 1, 4, 12, 12, 32, 123, 123, 235, 2341, 4234, 12423, 23123]"
      ]
     },
     "execution_count": 107,
     "metadata": {},
     "output_type": "execute_result"
    }
   ],
   "source": [
    "a = [32,4234,2341,23123,235,1,123,12,1,12,123,1,12423,4]\n",
    "sorted(a)"
   ]
  },
  {
   "cell_type": "code",
   "execution_count": 108,
   "metadata": {},
   "outputs": [
    {
     "name": "stdout",
     "output_type": "stream",
     "text": [
      "[32, 4234, 2341, 23123, 235, 1, 123, 12, 1, 12, 123, 1, 12423, 4]\n",
      "[4, 12423, 1, 123, 12, 1, 12, 123, 1, 235, 23123, 2341, 4234, 32]\n"
     ]
    }
   ],
   "source": [
    "print (a)\n",
    "a.reverse()\n",
    "print (a)"
   ]
  },
  {
   "cell_type": "code",
   "execution_count": 109,
   "metadata": {},
   "outputs": [
    {
     "data": {
      "text/plain": [
       "<list_reverseiterator at 0x6040ef0>"
      ]
     },
     "execution_count": 109,
     "metadata": {},
     "output_type": "execute_result"
    }
   ],
   "source": [
    "reversed(a)"
   ]
  },
  {
   "cell_type": "code",
   "execution_count": 110,
   "metadata": {},
   "outputs": [
    {
     "name": "stdout",
     "output_type": "stream",
     "text": [
      "[4, 12423, 1, 123, 12, 1, 12, 123, 1, 235, 23123, 2341, 4234, 32]\n",
      "[1, 1, 1, 4, 12, 12, 32, 123, 123, 235, 2341, 4234, 12423, 23123]\n"
     ]
    }
   ],
   "source": [
    "print (a)\n",
    "a.sort()\n",
    "print (a)"
   ]
  },
  {
   "cell_type": "code",
   "execution_count": 111,
   "metadata": {},
   "outputs": [],
   "source": [
    "# tuples"
   ]
  },
  {
   "cell_type": "code",
   "execution_count": 112,
   "metadata": {},
   "outputs": [],
   "source": [
    "a = (\"Siddhartha\",\"Naman\",\"Ekansh\")"
   ]
  },
  {
   "cell_type": "code",
   "execution_count": 113,
   "metadata": {},
   "outputs": [
    {
     "data": {
      "text/plain": [
       "('Siddhartha', 'Naman', 'Ekansh')"
      ]
     },
     "execution_count": 113,
     "metadata": {},
     "output_type": "execute_result"
    }
   ],
   "source": [
    "a"
   ]
  },
  {
   "cell_type": "code",
   "execution_count": 114,
   "metadata": {},
   "outputs": [],
   "source": [
    "# unlike list; tuples are immtable, that is the elements of tuples can't be accessed from outside"
   ]
  },
  {
   "cell_type": "code",
   "execution_count": 115,
   "metadata": {},
   "outputs": [
    {
     "ename": "TypeError",
     "evalue": "'tuple' object does not support item assignment",
     "output_type": "error",
     "traceback": [
      "\u001b[1;31m---------------------------------------------------------------------------\u001b[0m",
      "\u001b[1;31mTypeError\u001b[0m                                 Traceback (most recent call last)",
      "\u001b[1;32m<ipython-input-115-2e315ed6b473>\u001b[0m in \u001b[0;36m<module>\u001b[1;34m\u001b[0m\n\u001b[1;32m----> 1\u001b[1;33m \u001b[0ma\u001b[0m\u001b[1;33m[\u001b[0m\u001b[1;36m1\u001b[0m\u001b[1;33m]\u001b[0m \u001b[1;33m=\u001b[0m \u001b[1;34m\"Jatin\"\u001b[0m\u001b[1;33m\u001b[0m\u001b[1;33m\u001b[0m\u001b[0m\n\u001b[0m",
      "\u001b[1;31mTypeError\u001b[0m: 'tuple' object does not support item assignment"
     ]
    }
   ],
   "source": [
    "a[1] = \"Jatin\""
   ]
  },
  {
   "cell_type": "code",
   "execution_count": 116,
   "metadata": {},
   "outputs": [
    {
     "name": "stdout",
     "output_type": "stream",
     "text": [
      "<class 'tuple'>\n"
     ]
    }
   ],
   "source": [
    "print (type (a))"
   ]
  },
  {
   "cell_type": "code",
   "execution_count": 117,
   "metadata": {},
   "outputs": [
    {
     "name": "stdout",
     "output_type": "stream",
     "text": [
      "(1, 2, 3, 4, 5, 6, 7, 8, 9)\n",
      "<class 'tuple'>\n",
      "[1, 2, 3, 4, 5, 6, 7, 8, 9]\n",
      "<class 'list'>\n",
      "(1, 2, 3, 4, 5, 6, 7, 8, 9)\n",
      "<class 'tuple'>\n"
     ]
    }
   ],
   "source": [
    "#tuple to list and list to tuple\n",
    "a = (1,2,3,4,5,6,7,8,9)\n",
    "print (a)\n",
    "print (type (a))\n",
    "b = list(a)\n",
    "print (b)\n",
    "print (type(b))\n",
    "c = tuple(b)\n",
    "print (c)\n",
    "print (type (c))"
   ]
  },
  {
   "cell_type": "code",
   "execution_count": 118,
   "metadata": {},
   "outputs": [
    {
     "data": {
      "text/plain": [
       "'a'"
      ]
     },
     "execution_count": 118,
     "metadata": {},
     "output_type": "execute_result"
    }
   ],
   "source": [
    "b = (3,4,5,6,7,9.5,\"bipin\",[3,4,5],(\"bipin\",\"kalra\"))\n",
    "b[-1][1][4]\n",
    "# how does it works\n",
    "# b[-1][1][4]\n",
    "# first we will access the -1st element in the tuple given, i.e. (\"Bipin\",\"kalra\") from the given tuple b\n",
    "# then we will go to the 1st element of the tuple, i.e \"kalra\" from (\"bipin\",\"kalra\")\n",
    "# then we will access the 4th element of \"kalra\", i.e \"a\" and hence the output "
   ]
  },
  {
   "cell_type": "code",
   "execution_count": 119,
   "metadata": {},
   "outputs": [],
   "source": [
    "# dictionary\n",
    "# syntax:\n",
    "# a = {\n",
    "#     key1 : attribute1,\n",
    "#     key2 : attribute2,\n",
    "#     key3 : attribute3,\n",
    "#     .\n",
    "#     .\n",
    "#     .\n",
    "# }\n",
    "# in a dictionary the key can be an integer, string, list or tuple and same goes for the attributes\n",
    "# also dictionary are immutable objects"
   ]
  },
  {
   "cell_type": "code",
   "execution_count": 120,
   "metadata": {},
   "outputs": [
    {
     "name": "stdout",
     "output_type": "stream",
     "text": [
      "{'Name': 'Siddhartha', 'Age': 20, 'Gender': 'Male', 'Marks': 100}\n",
      "<class 'dict'>\n"
     ]
    }
   ],
   "source": [
    "a = {\n",
    "    \"Name\" : \"Siddhartha\",\n",
    "    \"Age\" : 20,\n",
    "    \"Gender\" : \"Male\",\n",
    "    \"Marks\" : 100\n",
    "}\n",
    "print (a)\n",
    "print (type (a))"
   ]
  },
  {
   "cell_type": "code",
   "execution_count": 121,
   "metadata": {},
   "outputs": [
    {
     "name": "stdout",
     "output_type": "stream",
     "text": [
      "{'name': 'bipin', (1, 2, 3): ['maths', 'science', 'c++'], 'marks': (1, 45, 36), 'dict': {'1': 'one', '2': 'two'}}\n",
      "{'name': 'bipin', (1, 2, 3): ['maths', 'science', 'c++'], 'marks': (1, 45, 36), 'dict': {'1': 'one', '2': 'two'}, 'abc': [1, 2, 3, 4, 4]}\n",
      "{'name': 'bipin', (1, 2, 3): ['maths', 'science', 'c++'], 'marks': (1, 45, 36), 'dict': {'1': 'one', '2': 'two'}, 'abc': 4}\n",
      "maths\n",
      "book\n",
      "{'name': 'bipin', (1, 2, 3): ['maths', 'science', 'c++'], 'marks': (1, 45, 36), 'dict': {'1': 'one', '2': 'two'}, 'abc': 4, 'maths': 'book'}\n",
      "alpha\n",
      "omega\n",
      "{'name': 'bipin', (1, 2, 3): ['maths', 'science', 'c++'], 'marks': (1, 45, 36), 'dict': {'1': 'one', '2': 'two'}, 'abc': 4, 'maths': 'book', 'omega': 'alpha'}\n"
     ]
    }
   ],
   "source": [
    "# dictinary and its functions \n",
    "a = {\n",
    "    \"name\" : \"bipin\",\n",
    "    (1,2,3) : [\"maths\",\"science\",\"c++\"],\n",
    "    \"marks\" : (1,45,36),\n",
    "    \"dict\" : {\n",
    "        \"1\" : \"one\",\n",
    "        '2' :\"two\"\n",
    "    }\n",
    "}\n",
    "print (a)\n",
    "a[\"abc\"] = [1,2,3,4,4]\n",
    "print (a)\n",
    "a[\"abc\"] = 4\n",
    "print (a)\n",
    "key = input()\n",
    "a[key] = input()\n",
    "print (a)\n",
    "a[input()] = input() \n",
    "# int the above statement the input goes in reverse cronological order i.e. the attribute is \n",
    "# assigned first and then key is assigned \n",
    "print (a)"
   ]
  },
  {
   "cell_type": "code",
   "execution_count": 123,
   "metadata": {},
   "outputs": [
    {
     "name": "stdout",
     "output_type": "stream",
     "text": [
      "Enter the nuber of your entries:3\n",
      "1\n",
      "sid\n",
      "cse\n",
      "2\n",
      "naman\n",
      "it\n",
      "3\n",
      "ekansh\n",
      "eee\n"
     ]
    }
   ],
   "source": [
    "n = int (input (\"Enter the nuber of your entries:\"))\n",
    "res = []\n",
    "for i in range(n):\n",
    "    roll = int(input())\n",
    "    name = input()\n",
    "    branch = input()\n",
    "    d = {\n",
    "        \"roll\": roll,\n",
    "        \"name\": name,\n",
    "        \"branch\": branch\n",
    "    }\n",
    "    \n",
    "    res.append(d)"
   ]
  },
  {
   "cell_type": "code",
   "execution_count": 124,
   "metadata": {},
   "outputs": [],
   "source": [
    "# Sets\n",
    "# Sets are unordered collections of simple objects.\n",
    "# These are used when the existence of an object in a collection is more \n",
    "# important than the order or how many times it occurs.\n",
    "# Using sets, you can test for membership, whether it is a subset of another set,\n",
    "# find the intersection between two sets, and so on."
   ]
  },
  {
   "cell_type": "code",
   "execution_count": 125,
   "metadata": {},
   "outputs": [
    {
     "name": "stdout",
     "output_type": "stream",
     "text": [
      "5\n"
     ]
    }
   ],
   "source": [
    "a = [4,5,6,2,1,3,1,1,5,5,6,4,3,2,1]\n",
    "b = sorted(set(a))[-2]\n",
    "print (b)"
   ]
  },
  {
   "cell_type": "code",
   "execution_count": 126,
   "metadata": {},
   "outputs": [
    {
     "name": "stdout",
     "output_type": "stream",
     "text": [
      "{1, 2, 3, 4, 5, 6}\n"
     ]
    }
   ],
   "source": [
    "print(set(a))"
   ]
  },
  {
   "cell_type": "code",
   "execution_count": 127,
   "metadata": {},
   "outputs": [],
   "source": [
    "a = {4,6,9,10,12,1}\n",
    "b = {1,2,3,4,5,6}"
   ]
  },
  {
   "cell_type": "code",
   "execution_count": 128,
   "metadata": {},
   "outputs": [
    {
     "data": {
      "text/plain": [
       "{1, 4, 6}"
      ]
     },
     "execution_count": 128,
     "metadata": {},
     "output_type": "execute_result"
    }
   ],
   "source": [
    "a.intersection(b)"
   ]
  },
  {
   "cell_type": "code",
   "execution_count": 129,
   "metadata": {},
   "outputs": [
    {
     "data": {
      "text/plain": [
       "{1, 2, 3, 4, 5, 6, 9, 10, 12}"
      ]
     },
     "execution_count": 129,
     "metadata": {},
     "output_type": "execute_result"
    }
   ],
   "source": [
    "a.union(b)"
   ]
  },
  {
   "cell_type": "code",
   "execution_count": 130,
   "metadata": {},
   "outputs": [
    {
     "data": {
      "text/plain": [
       "{9, 10, 12}"
      ]
     },
     "execution_count": 130,
     "metadata": {},
     "output_type": "execute_result"
    }
   ],
   "source": [
    "a - b"
   ]
  },
  {
   "cell_type": "code",
   "execution_count": 131,
   "metadata": {},
   "outputs": [
    {
     "name": "stdout",
     "output_type": "stream",
     "text": [
      "[[1, 2, 3, 4, 5, 6, 7, 8, 9, 10], [2, 4, 6, 8, 10, 12, 14, 16, 18, 20], [3, 6, 9, 12, 15, 18, 21, 24, 27, 30], [4, 8, 12, 16, 20, 24, 28, 32, 36, 40], [5, 10, 15, 20, 25, 30, 35, 40, 45, 50], [6, 12, 18, 24, 30, 36, 42, 48, 54, 60], [7, 14, 21, 28, 35, 42, 49, 56, 63, 70], [8, 16, 24, 32, 40, 48, 56, 64, 72, 80], [9, 18, 27, 36, 45, 54, 63, 72, 81, 90], [10, 20, 30, 40, 50, 60, 70, 80, 90, 100]]\n"
     ]
    }
   ],
   "source": [
    "print([[i*j for j in range(1,11)] for i in range(1,11)]) # printing and using loops in 1 single line"
   ]
  },
  {
   "cell_type": "code",
   "execution_count": 132,
   "metadata": {},
   "outputs": [],
   "source": [
    "# modules\n",
    "# statements listed below are modules\n",
    "import math"
   ]
  },
  {
   "cell_type": "code",
   "execution_count": 133,
   "metadata": {},
   "outputs": [],
   "source": [
    "# classes\n",
    "# syntax:\n",
    "# class class_name:\n",
    "#     def class_function_name1 (self, parameter1, parameter2,...):\n",
    "#         block\n",
    "#         return statement(s)\n",
    "#     def class_function_name2 (self, parameter1, parameter2,...):\n",
    "#         block\n",
    "#         return statement(s)\n",
    "#     .\n",
    "#     .\n",
    "#     .\n",
    "# self is a must parameter for a function in a class, this is becuase the keyword self works as a \n",
    "# pointer to the parameters itself of the function of a class"
   ]
  },
  {
   "cell_type": "code",
   "execution_count": 1,
   "metadata": {},
   "outputs": [
    {
     "name": "stdout",
     "output_type": "stream",
     "text": [
      "<__main__.Person object at 0x05DEBD90>\n"
     ]
    }
   ],
   "source": [
    "#empty class\n",
    "class Person:\n",
    "    pass\n",
    "\n",
    "p = Person() # constructor & destructor doesnt exist in python\n",
    "print(p)"
   ]
  },
  {
   "cell_type": "code",
   "execution_count": 134,
   "metadata": {},
   "outputs": [
    {
     "name": "stdout",
     "output_type": "stream",
     "text": [
      "jatin\n",
      "Hello, how are you jatin?\n",
      "Hello, how are you bipin?\n",
      "Hello, how are you jatin?\n"
     ]
    }
   ],
   "source": [
    "class Person:\n",
    "    \n",
    "    name = \"jatin\"\n",
    "    \n",
    "    def __init__(self):\n",
    "        pass\n",
    "    \n",
    "    def say_hi(context):\n",
    "        print('Hello, how are you ' + context.name +  \"?\")\n",
    "        \n",
    "    def change(self):\n",
    "        self.name = \"bipin\"\n",
    "p = Person()\n",
    "print(p.name)\n",
    "p.say_hi()\n",
    "p.change()\n",
    "p.say_hi()\n",
    "\n",
    "p1 = Person()\n",
    "p1.say_hi()"
   ]
  },
  {
   "cell_type": "code",
   "execution_count": 135,
   "metadata": {},
   "outputs": [
    {
     "name": "stdout",
     "output_type": "stream",
     "text": [
      "Hello, my name is jatin\n"
     ]
    }
   ],
   "source": [
    "class Person:\n",
    "    def __init__(self, name):\n",
    "        self.name = \"jatin\"\n",
    "\n",
    "    def say_hi(self):\n",
    "        print('Hello, my name is', self.name)\n",
    "\n",
    "p = Person('Nikhil')\n",
    "p.say_hi()"
   ]
  },
  {
   "cell_type": "code",
   "execution_count": 136,
   "metadata": {},
   "outputs": [
    {
     "name": "stdout",
     "output_type": "stream",
     "text": [
      "tommy\n",
      "pug\n",
      "tommy2\n",
      "canine\n"
     ]
    }
   ],
   "source": [
    "class Dog:\n",
    "    kind = 'canine'         # class variable shared by all instances\n",
    "\n",
    "    def __init__(self, name):\n",
    "        self.name = name    # instance variable unique to each instance\n",
    "    def change_kind(self, kind):\n",
    "        self.kind = kind\n",
    "        \n",
    "tommy = Dog('tommy')\n",
    "tommy.change_kind('pug')\n",
    "\n",
    "print(tommy.name)\n",
    "print(tommy.kind)\n",
    "\n",
    "tommy2 = Dog('tommy2')\n",
    "print(tommy2.name)\n",
    "print(tommy2.kind)"
   ]
  },
  {
   "cell_type": "code",
   "execution_count": 137,
   "metadata": {},
   "outputs": [
    {
     "name": "stdout",
     "output_type": "stream",
     "text": [
      "{'jump'}\n",
      "{'something', 'jump'}\n",
      "{'something', 'jump'}\n"
     ]
    }
   ],
   "source": [
    "class Dog:\n",
    "\n",
    "    tricks = set()          # mistaken use of a class variable\n",
    "\n",
    "    def __init__(self, name):\n",
    "        self.name = name\n",
    "\n",
    "    def add_trick(self, trick):\n",
    "        self.tricks.add(trick)\n",
    "        \n",
    "\n",
    "dog1 = Dog(\"adam\")\n",
    "dog1.add_trick(\"jump\")\n",
    "print(dog1.tricks)\n",
    "\n",
    "dog2 = Dog(\"sweeny\")\n",
    "dog2.add_trick(\"something\")\n",
    "print(dog2.tricks)\n",
    "\n",
    "\n",
    "dog3 = Dog(\"klasjdfl\")\n",
    "print(dog3.tricks)"
   ]
  },
  {
   "cell_type": "code",
   "execution_count": 2,
   "metadata": {},
   "outputs": [],
   "source": [
    "#__something__(self) is called a magic function and self is compulsary"
   ]
  },
  {
   "cell_type": "code",
   "execution_count": 4,
   "metadata": {},
   "outputs": [
    {
     "name": "stdout",
     "output_type": "stream",
     "text": [
      "Siddhartha CSE 70 80\n"
     ]
    }
   ],
   "source": [
    "class student:\n",
    "    def info(self,name,branch):\n",
    "        self.name = name\n",
    "        self.branch = branch\n",
    "    def marks(self,marks1,marks2):\n",
    "        self.marks1 = marks1\n",
    "        self.marks2 = marks2\n",
    "    def display(self):\n",
    "        print (self.name,self.branch,self.marks1,self.marks2)\n",
    "        \n",
    "p = student()\n",
    "p.info(\"Siddhartha\",\"CSE\")\n",
    "p.marks(70,80)\n",
    "p.display()"
   ]
  },
  {
   "cell_type": "code",
   "execution_count": 5,
   "metadata": {},
   "outputs": [],
   "source": [
    "class A:\n",
    "    x = 25\n",
    "    \n",
    "class B(A):\n",
    "    x = 15\n",
    "\n",
    "class C(B):\n",
    "    pass #classes.py file look...\n",
    "\n",
    "class D(A):\n",
    "    pass\n",
    "\n",
    "class E(D):\n",
    "    x = 25\n",
    "\n",
    "class F(E, C):\n",
    "    def show(self):\n",
    "        print(self.x)"
   ]
  },
  {
   "cell_type": "code",
   "execution_count": 6,
   "metadata": {},
   "outputs": [
    {
     "name": "stdout",
     "output_type": "stream",
     "text": [
      "25\n"
     ]
    }
   ],
   "source": [
    "f = F()\n",
    "f.show()"
   ]
  },
  {
   "cell_type": "code",
   "execution_count": 7,
   "metadata": {},
   "outputs": [],
   "source": [
    "# we can clearly see that \n",
    "#          A\n",
    "#      /      \\\n",
    "#     B        D\n",
    "#     |        |\n",
    "#     C        E\n",
    "#      \\     /\n",
    "#         F\n",
    "# this is the pyramidical method that is being followed \n",
    "# so if there are 2 sub classes that are being called from one root class and then these classes are \n",
    "# converted to one single class given that the number of legs of each sub class are equal then \n",
    "# the value is assigned to the paramerter that is being called first and if the number of legs are not\n",
    "# equal in the value then the one closest to the last class is assigned the value to the sub class.\n",
    "# in the example below the value of 'C' is passed to 'E'\n",
    "#           A\n",
    "#        /    \\\n",
    "#       B     |\n",
    "#      |      D\n",
    "#      C     |\n",
    "#       \\   /\n",
    "#         E"
   ]
  },
  {
   "cell_type": "code",
   "execution_count": 138,
   "metadata": {},
   "outputs": [
    {
     "name": "stdout",
     "output_type": "stream",
     "text": [
      "(Initialized SchoolMember: Mr. Ujjwal)\n",
      "heya !\n",
      "(Initialized Teacher: Mr. Ujjwal)\n",
      "heya !\n",
      "(Initialized SchoolMember: Nikhil)\n",
      "heya !\n",
      "(Initialized Student: Nikhil)\n"
     ]
    }
   ],
   "source": [
    "# inheritance \n",
    "class SchoolMember:\n",
    "    '''Represents any school member.'''\n",
    "    def __init__(self, name, age):\n",
    "        self.name = name\n",
    "        self.age = age\n",
    "        print('(Initialized SchoolMember: {})'.format(self.name))\n",
    "        self.base()\n",
    "\n",
    "    def tell(self):\n",
    "        '''Tell my details.'''\n",
    "        print('Name:\"{}\" Age:\"{}\"'.format(self.name, self.age), end=\" \")\n",
    "        \n",
    "    def base(self):\n",
    "        print(\"heya !\")\n",
    "\n",
    "class Teacher(SchoolMember):\n",
    "    '''Represents a teacher.'''\n",
    "    def __init__(self, name, age, salary):\n",
    "        SchoolMember.__init__(self, name, age)\n",
    "#         self.name = name\n",
    "#         self.age = age\n",
    "        self.salary = salary\n",
    "        print('(Initialized Teacher: {})'.format(self.name))\n",
    "        self.base()\n",
    "\n",
    "    def tell(self):\n",
    "        SchoolMember.tell(self)\n",
    "        print('Salary: \"{:d}\"'.format(self.salary))\n",
    "        \n",
    "        \n",
    "class Student(SchoolMember):\n",
    "    '''Represents a student.'''\n",
    "    def __init__(self, name, age, marks):\n",
    "        SchoolMember.__init__(self, name, age)\n",
    "        self.marks = marks\n",
    "        print('(Initialized Student: {})'.format(self.name))\n",
    "\n",
    "    def tell(self):\n",
    "        SchoolMember.tell(self)\n",
    "        print('Marks: \"{:d}\"'.format(self.marks))\n",
    "\n",
    "        \n",
    "t = Teacher('Mr. Ujjwal', 40, 30000)\n",
    "s = Student('Nikhil', 25, 75)"
   ]
  },
  {
   "cell_type": "code",
   "execution_count": 139,
   "metadata": {},
   "outputs": [
    {
     "name": "stdout",
     "output_type": "stream",
     "text": [
      "5\n"
     ]
    }
   ],
   "source": [
    "class A:\n",
    "    pass\n",
    "class B(A):\n",
    "    x = 5\n",
    "class C(B):\n",
    "    pass\n",
    "class D(A):\n",
    "    x = 10\n",
    "\n",
    "class E( C, D):\n",
    "    def show(self):\n",
    "        print(self.x)\n",
    "        \n",
    "e = E()\n",
    "e.show()"
   ]
  },
  {
   "cell_type": "code",
   "execution_count": 140,
   "metadata": {},
   "outputs": [],
   "source": [
    "# magic functions"
   ]
  },
  {
   "cell_type": "code",
   "execution_count": 141,
   "metadata": {},
   "outputs": [
    {
     "name": "stdout",
     "output_type": "stream",
     "text": [
      "model: Suzuki mileage: 16\n"
     ]
    }
   ],
   "source": [
    "class Car:\n",
    "    def __init__(self, model, mileage):\n",
    "        self.model = model\n",
    "        self.mileage = mileage\n",
    "    \n",
    "    def __str__(self):\n",
    "        return \"model: {} mileage: {}\".format(self.model, self.mileage)\n",
    "    \n",
    "    def __eq__(self, other):\n",
    "        return self.mileage == other.mileage\n",
    "    \n",
    "    def __gt__(self, other):\n",
    "        return self.mileage > other.mileage\n",
    "    \n",
    "    def __lt__(self, other):\n",
    "        return False\n",
    "\n",
    "    def __add__(self, other):\n",
    "        return self.mileage + other.mileage\n",
    "\n",
    "c = Car('Suzuki', 16)\n",
    "print(str(c))"
   ]
  },
  {
   "cell_type": "code",
   "execution_count": 142,
   "metadata": {},
   "outputs": [],
   "source": [
    "c1 = Car('a',2)\n",
    "c2 = Car('b', 3)"
   ]
  },
  {
   "cell_type": "code",
   "execution_count": 143,
   "metadata": {},
   "outputs": [
    {
     "data": {
      "text/plain": [
       "False"
      ]
     },
     "execution_count": 143,
     "metadata": {},
     "output_type": "execute_result"
    }
   ],
   "source": [
    "c1 < c2"
   ]
  },
  {
   "cell_type": "code",
   "execution_count": 144,
   "metadata": {},
   "outputs": [
    {
     "data": {
      "text/plain": [
       "5"
      ]
     },
     "execution_count": 144,
     "metadata": {},
     "output_type": "execute_result"
    }
   ],
   "source": [
    "c1 + c2"
   ]
  },
  {
   "cell_type": "code",
   "execution_count": null,
   "metadata": {},
   "outputs": [],
   "source": []
  },
  {
   "cell_type": "code",
   "execution_count": null,
   "metadata": {},
   "outputs": [],
   "source": []
  }
 ],
 "metadata": {
  "kernelspec": {
   "display_name": "Python 3",
   "language": "python",
   "name": "python3"
  },
  "language_info": {
   "codemirror_mode": {
    "name": "ipython",
    "version": 3
   },
   "file_extension": ".py",
   "mimetype": "text/x-python",
   "name": "python",
   "nbconvert_exporter": "python",
   "pygments_lexer": "ipython3",
   "version": "3.7.3"
  }
 },
 "nbformat": 4,
 "nbformat_minor": 2
}
